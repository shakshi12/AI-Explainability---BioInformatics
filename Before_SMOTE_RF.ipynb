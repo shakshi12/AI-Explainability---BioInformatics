{
  "nbformat": 4,
  "nbformat_minor": 0,
  "metadata": {
    "kernelspec": {
      "display_name": "Python 3",
      "language": "python",
      "name": "python3"
    },
    "language_info": {
      "codemirror_mode": {
        "name": "ipython",
        "version": 3
      },
      "file_extension": ".py",
      "mimetype": "text/x-python",
      "name": "python",
      "nbconvert_exporter": "python",
      "pygments_lexer": "ipython3",
      "version": "3.8.5"
    },
    "colab": {
      "name": "Before_SMOTE-RF.ipynb",
      "provenance": [],
      "collapsed_sections": [
        "XLgHD4sc03AE",
        "UwboJhMz03AG",
        "oqafO4pZ03AQ",
        "q0oyJaeC03AQ",
        "gmncaoV103AX",
        "qG_d4U7m03Aa"
      ]
    }
  },
  "cells": [
    {
      "cell_type": "code",
      "metadata": {
        "id": "p4p_3fki02_c"
      },
      "source": [
        "import numpy as np\n",
        "import pandas as pd\n",
        "from sklearn.model_selection import GridSearchCV "
      ],
      "execution_count": null,
      "outputs": []
    },
    {
      "cell_type": "code",
      "metadata": {
        "id": "FshT15ln02_n"
      },
      "source": [
        "import glob"
      ],
      "execution_count": null,
      "outputs": []
    },
    {
      "cell_type": "code",
      "metadata": {
        "id": "yNDeb_wc02_p"
      },
      "source": [
        "from sklearn.ensemble import RandomForestClassifier\n",
        "import seaborn as sns"
      ],
      "execution_count": null,
      "outputs": []
    },
    {
      "cell_type": "code",
      "metadata": {
        "id": "5OF9D4v202_p"
      },
      "source": [
        "from numpy import mean\n",
        "from numpy import std\n",
        "from numpy import dstack\n",
        "from pandas import read_csv\n",
        "from matplotlib import pyplot"
      ],
      "execution_count": null,
      "outputs": []
    },
    {
      "cell_type": "code",
      "metadata": {
        "id": "0N2T2_Ro02_q"
      },
      "source": [
        "from sklearn.metrics import precision_score\n",
        "from sklearn.metrics import recall_score\n",
        "from sklearn.metrics import f1_score\n",
        "from sklearn.metrics import accuracy_score"
      ],
      "execution_count": null,
      "outputs": []
    },
    {
      "cell_type": "code",
      "metadata": {
        "id": "oj1kIEec02_r"
      },
      "source": [
        "import matplotlib.pyplot as plt\n",
        "from itertools import cycle\n",
        "from sklearn.metrics import roc_curve, auc\n",
        "from scipy import interp\n",
        "from sklearn.metrics import roc_auc_score\n",
        "from sklearn import metrics"
      ],
      "execution_count": null,
      "outputs": []
    },
    {
      "cell_type": "code",
      "metadata": {
        "id": "x_AQSFii02_r"
      },
      "source": [
        "from sklearn.pipeline import Pipeline\n",
        "from sklearn.svm import SVC\n",
        "from sklearn.preprocessing import StandardScaler\n",
        "from sklearn.model_selection import KFold"
      ],
      "execution_count": null,
      "outputs": []
    },
    {
      "cell_type": "code",
      "metadata": {
        "id": "aaFevSNH02_s"
      },
      "source": [
        "from sklearn.metrics import confusion_matrix\n",
        "from sklearn.preprocessing import OrdinalEncoder"
      ],
      "execution_count": null,
      "outputs": []
    },
    {
      "cell_type": "code",
      "metadata": {
        "id": "BNkoFWDO02_s"
      },
      "source": [
        "import lime\n",
        "from lime import lime_tabular"
      ],
      "execution_count": null,
      "outputs": []
    },
    {
      "cell_type": "code",
      "metadata": {
        "id": "56QfZg2e02_s"
      },
      "source": [
        "from sklearn.model_selection import train_test_split\n",
        "from sklearn.metrics import classification_report"
      ],
      "execution_count": null,
      "outputs": []
    },
    {
      "cell_type": "code",
      "metadata": {
        "id": "SbDlnQvU02_t"
      },
      "source": [
        "from sklearn.metrics import precision_score\n",
        "from sklearn.metrics import recall_score\n",
        "from sklearn.metrics import f1_score\n",
        "from sklearn.metrics import accuracy_score"
      ],
      "execution_count": null,
      "outputs": []
    },
    {
      "cell_type": "code",
      "metadata": {
        "id": "mhizoWs_02_t"
      },
      "source": [
        "data_nn = pd.read_csv('Cancer_3000features_SMOTE.csv')"
      ],
      "execution_count": null,
      "outputs": []
    },
    {
      "cell_type": "code",
      "metadata": {
        "id": "0vz1-cJd02_u"
      },
      "source": [
        "data_nn.shape"
      ],
      "execution_count": null,
      "outputs": []
    },
    {
      "cell_type": "code",
      "metadata": {
        "id": "tgXk1kFG02_v"
      },
      "source": [
        "labels = data_nn.target"
      ],
      "execution_count": null,
      "outputs": []
    },
    {
      "cell_type": "code",
      "metadata": {
        "id": "jO6nsl9g02_w"
      },
      "source": [
        "data_nn.drop('Unnamed: 0', axis = 1, inplace = True)"
      ],
      "execution_count": null,
      "outputs": []
    },
    {
      "cell_type": "code",
      "metadata": {
        "id": "7JOafzYs02_2"
      },
      "source": [
        "X1 = data_nn.iloc[:, :-1].values\n",
        "y1 = data_nn.iloc[:, -1].values"
      ],
      "execution_count": null,
      "outputs": []
    },
    {
      "cell_type": "code",
      "metadata": {
        "id": "09j7bFwc02_3"
      },
      "source": [
        "#y_test = label_binarize(y_test1, classes=labels.unique())\n",
        "y_b = label_binarize(y1, classes=list(labels.unique()))\n",
        "n_class = y_b.shape[1]"
      ],
      "execution_count": null,
      "outputs": []
    },
    {
      "cell_type": "code",
      "metadata": {
        "id": "yNsHxdQF02_3"
      },
      "source": [
        "flag = True\n",
        "while flag:\n",
        "    X_train1, X_test1, y_train1, y_test1 = train_test_split(X1, y_b, test_size = 0.20)\n",
        "   # if (pd.Series(y_test1).nunique() == pd.Series(y_train1).nunique()):\n",
        "    #        flag = False"
      ],
      "execution_count": null,
      "outputs": []
    },
    {
      "cell_type": "code",
      "metadata": {
        "id": "kfZBDgyH02_4"
      },
      "source": [
        "X_train1, X_test1, y_train1, y_test1 = train_test_split(X1, y_b, test_size = 0.20)"
      ],
      "execution_count": null,
      "outputs": []
    },
    {
      "cell_type": "code",
      "metadata": {
        "id": "MTCndW9J02_4"
      },
      "source": [
        "from sklearn.preprocessing import StandardScaler\n",
        "feature_scaler = StandardScaler()\n",
        "X_train2 = feature_scaler.fit_transform(X_train1)\n",
        "X_test2 = feature_scaler.transform(X_test1)"
      ],
      "execution_count": null,
      "outputs": []
    },
    {
      "cell_type": "code",
      "metadata": {
        "id": "dIk0Fcxl02_5"
      },
      "source": [
        "X_train2.shape"
      ],
      "execution_count": null,
      "outputs": []
    },
    {
      "cell_type": "code",
      "metadata": {
        "id": "wbDgQtpp02_5"
      },
      "source": [
        "X_test2.shape"
      ],
      "execution_count": null,
      "outputs": []
    },
    {
      "cell_type": "code",
      "metadata": {
        "id": "Ny78Pflh02_5"
      },
      "source": [
        "folds = KFold(5,shuffle = True, random_state=0)\n",
        "classifier = RandomForestClassifier(criterion = 'entropy', random_state = 42)"
      ],
      "execution_count": null,
      "outputs": []
    },
    {
      "cell_type": "code",
      "metadata": {
        "id": "6sDKnN5k02_6"
      },
      "source": [
        "folds = KFold(5,shuffle = True, random_state=0)\n",
        "classifier1 = RandomForestClassifier(criterion = 'entropy', random_state = 42)"
      ],
      "execution_count": null,
      "outputs": []
    },
    {
      "cell_type": "code",
      "metadata": {
        "id": "oY__vLBR02_7"
      },
      "source": [
        "for i, (train, test) in enumerate(folds.split(X_train2, y_train1)):\n",
        "    \n",
        "    classifier.fit(X_train2[train], y_train1[train])\n",
        "\n",
        "    y_pred = classifier.predict(X_train2[test])\n",
        "    \n",
        "    conf_mat = confusion_matrix(y_train1[test], y_pred)\n",
        "    print (conf_mat)\n",
        "\n",
        "    precision = precision_score(y_train1[test], y_pred, average='micro')\n",
        "    print('Precision micro: %.3f' % precision)\n",
        "    precision = precision_score(y_train1[test], y_pred, average='macro')\n",
        "    print('Precision macro: %.3f' % precision)\n",
        "    recall = recall_score(y_train1[test], y_pred, average='micro')\n",
        "    print('Recall micro: %.3f' % recall)\n",
        "    recall = recall_score(y_train1[test], y_pred, average='macro')\n",
        "    print('Recall macro: %.3f' % recall)\n",
        "    print(accuracy_score(y_train1[test], y_pred))\n",
        "    print(classification_report(y_train1[test], y_pred))"
      ],
      "execution_count": null,
      "outputs": []
    },
    {
      "cell_type": "code",
      "metadata": {
        "id": "1uhegCh202_8"
      },
      "source": [
        "classifier1.fit(X_train2, y_train1)\n",
        "y_pred_cv1 = classifier1.predict(X_test2)\n",
        "print(classification_report(y_test1, y_pred_cv1))\n",
        "y_pred_prob1 = classifier1.predict_proba(X_test2)"
      ],
      "execution_count": null,
      "outputs": []
    },
    {
      "cell_type": "code",
      "metadata": {
        "scrolled": true,
        "id": "QRusImMU02_8"
      },
      "source": [
        "y_pred_cv = classifier.predict(X_test2)\n",
        "print(classification_report(y_test1, y_pred_cv))"
      ],
      "execution_count": null,
      "outputs": []
    },
    {
      "cell_type": "code",
      "metadata": {
        "id": "kDsbMA6002_9"
      },
      "source": [
        "pd.DataFrame(y_pred_cv).to_csv('y_pred_rf.csv')"
      ],
      "execution_count": null,
      "outputs": []
    },
    {
      "cell_type": "code",
      "metadata": {
        "id": "c8HytsHb02_9"
      },
      "source": [
        "s = classification_report(y_test1, y_pred_cv, output_dict = True)"
      ],
      "execution_count": null,
      "outputs": []
    },
    {
      "cell_type": "code",
      "metadata": {
        "id": "TMWef-pu02_9"
      },
      "source": [
        "pd.DataFrame(s).transpose().to_csv('report_rf.csv')"
      ],
      "execution_count": null,
      "outputs": []
    },
    {
      "cell_type": "code",
      "metadata": {
        "id": "zO6ctc5D02_-"
      },
      "source": [
        "pd.DataFrame(y_test1).to_csv('y_true.csv')"
      ],
      "execution_count": null,
      "outputs": []
    },
    {
      "cell_type": "code",
      "metadata": {
        "id": "IjxwGLqN02_-"
      },
      "source": [
        "y_pred_prob = classifier.predict_proba(X_test2)"
      ],
      "execution_count": null,
      "outputs": []
    },
    {
      "cell_type": "code",
      "metadata": {
        "id": "LA1Hc-7b02_-"
      },
      "source": [
        "pd.DataFrame(y_pred_prob).to_csv('y_pred_prob_rf.csv')"
      ],
      "execution_count": null,
      "outputs": []
    },
    {
      "cell_type": "code",
      "metadata": {
        "id": "jdaCtAmc02__"
      },
      "source": [
        "roc_auc_score(y_test1, classifier.predict_proba(X_test2), multi_class='ovr')"
      ],
      "execution_count": null,
      "outputs": []
    },
    {
      "cell_type": "code",
      "metadata": {
        "id": "jKN41xbY02__"
      },
      "source": [
        "roc_auc_score(y_test1, classifier.predict_proba(X_test2), multi_class='ovo')"
      ],
      "execution_count": null,
      "outputs": []
    },
    {
      "cell_type": "code",
      "metadata": {
        "id": "XY_c70NZ03AA"
      },
      "source": [
        "precision_score(y_test1, y_pred_cv, average='micro')"
      ],
      "execution_count": null,
      "outputs": []
    },
    {
      "cell_type": "code",
      "metadata": {
        "id": "SpzaWFKr03AB"
      },
      "source": [
        "recall_score(y_test1, y_pred_cv, average='micro')"
      ],
      "execution_count": null,
      "outputs": []
    },
    {
      "cell_type": "code",
      "metadata": {
        "id": "NzhYK5S903AB"
      },
      "source": [
        "f1_score(y_test1, y_pred_cv, average='micro')"
      ],
      "execution_count": null,
      "outputs": []
    },
    {
      "cell_type": "code",
      "metadata": {
        "id": "uo0Exn0A03AC"
      },
      "source": [
        "y_pred_cv"
      ],
      "execution_count": null,
      "outputs": []
    },
    {
      "cell_type": "code",
      "metadata": {
        "id": "cbUVD8MT03AD"
      },
      "source": [
        "import pickle"
      ],
      "execution_count": null,
      "outputs": []
    },
    {
      "cell_type": "code",
      "metadata": {
        "id": "sIZUOuDY03AD"
      },
      "source": [
        "# save the model to disk\n",
        "filename = 'after_smote_rf.sav'\n",
        "pickle.dump(classifier, open(filename, 'wb'))\n",
        "\n",
        "# some time later...\n",
        "\n",
        "# load the model from disk\n",
        "#loaded_model = pickle.load(open(filename, 'rb'))\n",
        "#result = loaded_model.score(X_test, Y_test)\n",
        "#print(result)"
      ],
      "execution_count": null,
      "outputs": []
    },
    {
      "cell_type": "markdown",
      "metadata": {
        "id": "XLgHD4sc03AE"
      },
      "source": [
        "# Confusion Matrix"
      ]
    },
    {
      "cell_type": "code",
      "metadata": {
        "id": "uqnFL0Ww03AF"
      },
      "source": [
        "from sklearn.metrics import confusion_matrix\n",
        "import itertools\n",
        "from sklearn.metrics import confusion_matrix\n",
        "import itertools\n",
        "\n",
        "#cm = confusion_matrix(y_test1, y_pred_cv)\n",
        "#y_pred_cm = classifier.predict(X_test2);\n",
        "\n",
        "cnf_matrix = confusion_matrix(y_test1, y_pred_cv)\n",
        "\n",
        "def plot_confusion_matrix(cm, classes,\n",
        "                          normalize=False,\n",
        "                          title='Confusion matrix',\n",
        "                          cmap=plt.cm.Blues):\n",
        "    \"\"\"\n",
        "    This function prints and plots the confusion matrix.\n",
        "    Normalization can be applied by setting `normalize=True`.\n",
        "    \"\"\"\n",
        "    if normalize:\n",
        "        cm = cm.astype('float') / cm.sum(axis=1)[:, np.newaxis]\n",
        "        print(\"Normalized confusion matrix\")\n",
        "    else:\n",
        "        print('Confusion matrix, without normalization')\n",
        "\n",
        "    # print(cm)\n",
        "\n",
        "    plt.imshow(cm, interpolation='nearest', cmap=cmap)\n",
        "    plt.title(title)\n",
        "    plt.colorbar()\n",
        "    tick_marks = np.arange(len(classes))\n",
        "    plt.xticks(tick_marks, classes, rotation=90)\n",
        "    plt.yticks(tick_marks, classes)\n",
        "\n",
        "    fmt = '.2f' if normalize else 'd'\n",
        "    thresh = cm.max() / 2.\n",
        "    for i, j in itertools.product(range(cm.shape[0]), range(cm.shape[1])):\n",
        "        plt.text(j, i, format(cm[i, j], fmt),\n",
        "                 horizontalalignment=\"center\",\n",
        "                 color=\"white\" if cm[i, j] > thresh else \"black\")\n",
        "\n",
        "    plt.tight_layout()\n",
        "    plt.ylabel('True label')\n",
        "    plt.xlabel('Predicted label')\n",
        "\n",
        "\n",
        "y_predcm = classifier.predict(X_test2);\n",
        "#cnf_matrix = confusion_matrix(np.argmax(y_test1, axis=1), np.argmax(y_predcm, axis=1))\n",
        "\n",
        "# Plot normalized confusion matrix\n",
        "fig = plt.figure()\n",
        "fig.set_size_inches(20, 20, forward=True)\n",
        "#fig.align_labels()\n",
        "\n",
        "# fig.subplots_adjust(left=0.0, right=1.0, bottom=0.0, top=1.0)\n",
        "plot_confusion_matrix(cnf_matrix, classes=np.asarray(labels.unique()), normalize=None,\n",
        "                      title='Confusion Matrix')\n",
        "\n",
        "plt.savefig('Confusion_Matrix_After_SMOTE_RF.jpeg', dpi = 500, bbox_inches='tight')"
      ],
      "execution_count": null,
      "outputs": []
    },
    {
      "cell_type": "code",
      "metadata": {
        "id": "1cM_RUh803AG"
      },
      "source": [
        "#np.save('confusion_matrix',cnf_matrix)\n",
        "pd.DataFrame(cnf_matrix).to_csv('confusion_matrix.csv')"
      ],
      "execution_count": null,
      "outputs": []
    },
    {
      "cell_type": "markdown",
      "metadata": {
        "id": "UwboJhMz03AG"
      },
      "source": [
        "# AUC ROC Plot"
      ]
    },
    {
      "cell_type": "code",
      "metadata": {
        "id": "Dh2nOQRk03AH"
      },
      "source": [
        "yy = yy.astype(int)"
      ],
      "execution_count": null,
      "outputs": []
    },
    {
      "cell_type": "code",
      "metadata": {
        "id": "qsFDmBp403AH"
      },
      "source": [
        "yy = np.array(yy)"
      ],
      "execution_count": null,
      "outputs": []
    },
    {
      "cell_type": "code",
      "metadata": {
        "id": "wFhU_FsV03AI"
      },
      "source": [
        "yy[1]"
      ],
      "execution_count": null,
      "outputs": []
    },
    {
      "cell_type": "code",
      "metadata": {
        "id": "FFdGA2tL03AI"
      },
      "source": [
        "from sklearn.metrics import roc_curve, auc\n",
        "from sklearn.preprocessing import label_binarize\n",
        "\n",
        "#y_test = label_binarize(y_test1, classes=labels.unique())\n",
        "#y_test = label_binarize(yy, classes=list(labels.unique()))\n",
        "#n_class = y_test.shape[1]\n",
        "\n",
        "# Add noisy features to make the problem harder\n",
        "#random_state = np.random.RandomState(0)\n",
        "#n_samples, n_features = X1.shape\n",
        "#X = np.c_[X1, random_state.randn(n_samples, 200 * n_features)]\n",
        "\n",
        "# shuffle and split training and test sets\n",
        "#X_train, X_test, y_train, y_test = train_test_split(X1, y, test_size=.5, random_state=0)\n",
        "#from sklearn.preprocessing import StandardScaler\n",
        "#feature_scaler = StandardScaler()\n",
        "#X_train = feature_scaler.fit_transform(X_train)\n",
        "#X_test = feature_scaler.transform(X_test)\n",
        "\n",
        "# Learn to predict each class against the other\n",
        "#classifier = OneVsRestClassifier(svm.SVC(kernel='linear', probability=True,\n",
        "                                 #random_state=random_state))\n",
        "#y_score = classifier.fit(X_train, y_train).decision_function(X_test)\n",
        "y_score = y_pred_prob1 #classifier.predict_proba(X_test2)\n",
        "# Compute ROC curve and ROC area for each class\n",
        "\n",
        "fpr = dict()\n",
        "tpr = dict()\n",
        "roc_auc = dict()\n",
        "for i in range(n_class):\n",
        "    fpr[i], tpr[i], _ = roc_curve(y_test1, y_score[:, i])   #(y_test, pred_prob[:,i], pos_label=i)\n",
        "    roc_auc[i] = auc(fpr[i], tpr[i])\n",
        "\n",
        "# Compute micro-average ROC curve and ROC area\n",
        "fpr[\"micro\"], tpr[\"micro\"], _ = roc_curve(y_test1.ravel(), y_score.ravel())\n",
        "roc_auc[\"micro\"] = auc(fpr[\"micro\"], tpr[\"micro\"])\n",
        "# First aggregate all false positive rates\n",
        "all_fpr = np.unique(np.concatenate([fpr[i] for i in range(n_class)]))\n",
        "\n",
        "# Then interpolate all ROC curves at this points\n",
        "mean_tpr = np.zeros_like(all_fpr)\n",
        "for i in range(n_class):\n",
        "    mean_tpr += interp(all_fpr, fpr[i], tpr[i])\n",
        "\n",
        "# Finally average it and compute AUC\n",
        "mean_tpr /= n_class\n",
        "\n",
        "fpr[\"macro\"] = all_fpr\n",
        "tpr[\"macro\"] = mean_tpr\n",
        "roc_auc[\"macro\"] = auc(fpr[\"macro\"], tpr[\"macro\"])\n",
        "\n",
        "# Plot all ROC curves\n",
        "plt.figure(figsize = (20,20))\n",
        "plt.plot(fpr[\"micro\"], tpr[\"micro\"],\n",
        "         label='micro-average ROC curve (area = {0:0.2f})'\n",
        "               ''.format(roc_auc[\"micro\"]),\n",
        "         color='deeppink', linestyle=':', linewidth=4)\n",
        "\n",
        "plt.plot(fpr[\"macro\"], tpr[\"macro\"],\n",
        "         label='macro-average ROC curve (area = {0:0.2f})'\n",
        "               ''.format(roc_auc[\"macro\"]),\n",
        "         color='navy', linestyle=':', linewidth=4)\n",
        "\n",
        "colors = cycle(['aqua', 'darkorange', 'cornflowerblue'])\n",
        "for i, color in zip(range(n_class), colors):\n",
        "    plt.plot(fpr[i], tpr[i], color=color, lw=2,\n",
        "             label='ROC curve of class {0} (area = {1:0.2f})'\n",
        "             ''.format(i, roc_auc[i]))\n",
        "\n",
        "plt.plot([0, 1], [0, 1], 'k--', lw=2)\n",
        "plt.xlim([0.0, 1.0])\n",
        "plt.ylim([0.0, 1.05])\n",
        "plt.xlabel('False Positive Rate')\n",
        "plt.ylabel('True Positive Rate')\n",
        "plt.title('Some extension of Receiver operating characteristic to multi-class')\n",
        "plt.legend(loc=\"lower right\")\n",
        "plt.show()"
      ],
      "execution_count": null,
      "outputs": []
    },
    {
      "cell_type": "code",
      "metadata": {
        "id": "zD_ejbb803AK"
      },
      "source": [
        "from sklearn.metrics import roc_curve, auc\n",
        "from sklearn.preprocessing import label_binarize\n",
        "from matplotlib import pyplot\n",
        "import matplotlib.pyplot as plt\n",
        "#from matplotlib.backends.backend_pdf import PdfPages\n",
        "\n",
        "#from matplotlib.backends.backend_pdf import PdfPages\n",
        "\n",
        "\n",
        "#y_test = label_binarize(y_test1, classes=labels.unique())\n",
        "#y_test = label_binarize(yy, classes=list(labels.unique()))\n",
        "#n_class = y_test.shape[1]\n",
        "\n",
        "# Add noisy features to make the problem harder\n",
        "#random_state = np.random.RandomState(0)\n",
        "#n_samples, n_features = X1.shape\n",
        "#X = np.c_[X1, random_state.randn(n_samples, 200 * n_features)]\n",
        "\n",
        "# shuffle and split training and test sets\n",
        "#X_train, X_test, y_train, y_test = train_test_split(X1, y, test_size=.5, random_state=0)\n",
        "#from sklearn.preprocessing import StandardScaler\n",
        "#feature_scaler = StandardScaler()\n",
        "#X_train = feature_scaler.fit_transform(X_train)\n",
        "#X_test = feature_scaler.transform(X_test)\n",
        "\n",
        "# Learn to predict each class against the other\n",
        "#classifier = OneVsRestClassifier(svm.SVC(kernel='linear', probability=True,\n",
        "                                 #random_state=random_state))\n",
        "#y_score = classifier.fit(X_train, y_train).decision_function(X_test)\n",
        "y_score = y_pred_prob #classifier.predict_proba(X_test2)\n",
        "# Compute ROC curve and ROC area for each class\n",
        "\n",
        "fpr = dict()\n",
        "tpr = dict()\n",
        "roc_auc = dict()\n",
        "for i in range(n_class):\n",
        "    fpr[i], tpr[i], _ = roc_curve(yy, y_score[:, i], pos_label=i)   #(y_test, pred_prob[:,i], pos_label=i)\n",
        "    roc_auc[i] = auc(fpr[i], tpr[i])\n",
        "\n",
        "# Compute micro-average ROC curve and ROC area\n",
        "fpr[\"micro\"], tpr[\"micro\"], _ = roc_curve(y_test1.ravel(), y_score.ravel())\n",
        "roc_auc[\"micro\"] = auc(fpr[\"micro\"], tpr[\"micro\"])\n",
        "# First aggregate all false positive rates\n",
        "all_fpr = np.unique(np.concatenate([fpr[i] for i in range(n_class)]))\n",
        "\n",
        "# Then interpolate all ROC curves at this points\n",
        "mean_tpr = np.zeros_like(all_fpr)\n",
        "for i in range(n_class):\n",
        "    mean_tpr += interp(all_fpr, fpr[i], tpr[i])\n",
        "\n",
        "# Finally average it and compute AUC\n",
        "mean_tpr /= n_class\n",
        "\n",
        "fpr[\"macro\"] = all_fpr\n",
        "tpr[\"macro\"] = mean_tpr\n",
        "roc_auc[\"macro\"] = auc(fpr[\"macro\"], tpr[\"macro\"])\n",
        "\n",
        "# Plot all ROC curves\n",
        "\n",
        "plt.figure(figsize = (20,20))\n",
        "#plt.plot(fpr[\"micro\"], tpr[\"micro\"],\n",
        " #        label='micro-average ROC curve (area = {0:0.2f})'\n",
        "  #             ''.format(roc_auc[\"micro\"]),\n",
        "   #      color='deeppink', linestyle=':', linewidth=4)\n",
        "\n",
        "#plt.plot(fpr[\"macro\"], tpr[\"macro\"],\n",
        " #        label='macro-average ROC curve (area = {0:0.2f})'\n",
        "  #             ''.format(roc_auc[\"macro\"]),\n",
        "   #      color='navy', linestyle=':', linewidth=4)\n",
        "\n",
        "colors = cycle(['aqua', 'darkorange', 'cornflowerblue', 'indianred', 'steelblue', 'limegreen', 'magenta', 'grey'])\n",
        "for i, color in zip(range(n_class), colors):\n",
        "    plt.plot(fpr[i], tpr[i], color=color, lw=2,\n",
        "             label='ROC curve of class {0} (area = {1:0.2f})'\n",
        "             ''.format(i, roc_auc[i]))\n",
        "\n",
        "plt.plot([0, 1], [0, 1], 'k--', lw=2)\n",
        "plt.xlim([0.0, 1.0])\n",
        "plt.ylim([0.0, 1.05])\n",
        "plt.xlabel('False Positive Rate')\n",
        "plt.ylabel('True Positive Rate')\n",
        "plt.title('Receiver operating characteristic to multi-class')\n",
        "plt.legend(loc=\"lower right\")\n",
        "plt.savefig('rocauc.jpg', dpi = 500)  \n",
        "\n",
        "plt.show()"
      ],
      "execution_count": null,
      "outputs": []
    },
    {
      "cell_type": "code",
      "metadata": {
        "id": "d315QR3O03AN"
      },
      "source": [
        "pd.DataFrame(y_pred_prob).to_csv('yy.csv')"
      ],
      "execution_count": null,
      "outputs": []
    },
    {
      "cell_type": "code",
      "metadata": {
        "id": "NrLyMewC03AN"
      },
      "source": [
        "pd.DataFrame(yy).to_csv('yyy.csv')"
      ],
      "execution_count": null,
      "outputs": []
    },
    {
      "cell_type": "code",
      "metadata": {
        "scrolled": true,
        "id": "cKGKCb4h03AO"
      },
      "source": [
        "from sklearn.metrics import roc_curve, auc\n",
        "from sklearn.preprocessing import label_binarize\n",
        "\n",
        "#y_test = label_binarize(y_test1, classes=labels.unique())\n",
        "#y_test = label_binarize(yy, classes=list(labels.unique()))\n",
        "#n_class = y_test.shape[1]\n",
        "\n",
        "# Add noisy features to make the problem harder\n",
        "#random_state = np.random.RandomState(0)\n",
        "#n_samples, n_features = X1.shape\n",
        "#X = np.c_[X1, random_state.randn(n_samples, 200 * n_features)]\n",
        "\n",
        "# shuffle and split training and test sets\n",
        "#X_train, X_test, y_train, y_test = train_test_split(X1, y, test_size=.5, random_state=0)\n",
        "#from sklearn.preprocessing import StandardScaler\n",
        "#feature_scaler = StandardScaler()\n",
        "#X_train = feature_scaler.fit_transform(X_train)\n",
        "#X_test = feature_scaler.transform(X_test)\n",
        "\n",
        "# Learn to predict each class against the other\n",
        "#classifier = OneVsRestClassifier(svm.SVC(kernel='linear', probability=True,\n",
        "                                 #random_state=random_state))\n",
        "#y_score = classifier.fit(X_train, y_train).decision_function(X_test)\n",
        "y_score = y_pred_prob1 #classifier.predict_proba(X_test2)\n",
        "# Compute ROC curve and ROC area for each class\n",
        "\n",
        "fpr = dict()\n",
        "tpr = dict()\n",
        "roc_auc = dict()\n",
        "for i in range(n_class):\n",
        "    fpr[i], tpr[i], _ = roc_curve(y_test1, np.array(y_score)[:, i])   #(y_test, pred_prob[:,i], pos_label=i)\n",
        "    roc_auc[i] = auc(fpr[i], tpr[i])\n",
        "\n",
        "# Compute micro-average ROC curve and ROC area\n",
        "fpr[\"micro\"], tpr[\"micro\"], _ = roc_curve(y_test1.ravel(), y_score.ravel())\n",
        "roc_auc[\"micro\"] = auc(fpr[\"micro\"], tpr[\"micro\"])\n",
        "# First aggregate all false positive rates\n",
        "all_fpr = np.unique(np.concatenate([fpr[i] for i in range(n_class)]))\n",
        "\n",
        "# Then interpolate all ROC curves at this points\n",
        "mean_tpr = np.zeros_like(all_fpr)\n",
        "for i in range(n_class):\n",
        "    mean_tpr += interp(all_fpr, fpr[i], tpr[i])\n",
        "\n",
        "# Finally average it and compute AUC\n",
        "mean_tpr /= n_class\n",
        "\n",
        "fpr[\"macro\"] = all_fpr\n",
        "tpr[\"macro\"] = mean_tpr\n",
        "roc_auc[\"macro\"] = auc(fpr[\"macro\"], tpr[\"macro\"])\n",
        "\n",
        "# Plot all ROC curves\n",
        "plt.figure(figsize = (20,20))\n",
        "plt.plot(fpr[\"micro\"], tpr[\"micro\"],\n",
        "         label='micro-average ROC curve (area = {0:0.2f})'\n",
        "               ''.format(roc_auc[\"micro\"]),\n",
        "         color='deeppink', linestyle=':', linewidth=4)\n",
        "\n",
        "plt.plot(fpr[\"macro\"], tpr[\"macro\"],\n",
        "         label='macro-average ROC curve (area = {0:0.2f})'\n",
        "               ''.format(roc_auc[\"macro\"]),\n",
        "         color='navy', linestyle=':', linewidth=4)\n",
        "\n",
        "colors = cycle(['aqua', 'darkorange', 'cornflowerblue'])\n",
        "for i, color in zip(range(n_class), colors):\n",
        "    plt.plot(fpr[i], tpr[i], color=color, lw=2,\n",
        "             label='ROC curve of class {0} (area = {1:0.2f})'\n",
        "             ''.format(i, roc_auc[i]))\n",
        "\n",
        "plt.plot([0, 1], [0, 1], 'k--', lw=2)\n",
        "plt.xlim([0.0, 1.0])\n",
        "plt.ylim([0.0, 1.05])\n",
        "plt.xlabel('False Positive Rate')\n",
        "plt.ylabel('True Positive Rate')\n",
        "plt.title('Some extension of Receiver operating characteristic to multi-class')\n",
        "plt.legend(loc=\"lower right\")\n",
        "plt.show()"
      ],
      "execution_count": null,
      "outputs": []
    },
    {
      "cell_type": "code",
      "metadata": {
        "id": "R6Pkm9lb03AP"
      },
      "source": [
        "pwd"
      ],
      "execution_count": null,
      "outputs": []
    },
    {
      "cell_type": "markdown",
      "metadata": {
        "id": "oqafO4pZ03AQ"
      },
      "source": [
        "# Test Set"
      ]
    },
    {
      "cell_type": "markdown",
      "metadata": {
        "id": "q0oyJaeC03AQ"
      },
      "source": [
        "## Input preparation"
      ]
    },
    {
      "cell_type": "code",
      "metadata": {
        "id": "Wm0rQVs403AR"
      },
      "source": [
        "path = r'C:\\Users\\Shakshi Sharma\\Downloads\\Chitra\\Test_sets'\n",
        "all_files = glob.glob(path + \"/*.csv\")\n",
        "\n",
        "print(len(all_files))"
      ],
      "execution_count": null,
      "outputs": []
    },
    {
      "cell_type": "code",
      "metadata": {
        "id": "Q8rjCLv_03AR"
      },
      "source": [
        "#test_set = pd.read_csv(all_files[18])\n",
        "test_set = pd.read_csv(r'C:\\Users\\Shakshi Sharma\\Downloads\\Chitra\\Test_sets\\GSE66836_labelled_knnImp (1).csv')"
      ],
      "execution_count": null,
      "outputs": []
    },
    {
      "cell_type": "code",
      "metadata": {
        "id": "E7QQSvTD03AS"
      },
      "source": [
        "test_set.head()"
      ],
      "execution_count": null,
      "outputs": []
    },
    {
      "cell_type": "code",
      "metadata": {
        "id": "1seR4_bY03AS"
      },
      "source": [
        "test_set.drop('Unnamed: 0', inplace = True, axis = 1)\n",
        "test_set.drop('probe', inplace = True, axis = 1)"
      ],
      "execution_count": null,
      "outputs": []
    },
    {
      "cell_type": "code",
      "metadata": {
        "id": "HFz3mGBT03AV"
      },
      "source": [
        "test_set.shape"
      ],
      "execution_count": null,
      "outputs": []
    },
    {
      "cell_type": "code",
      "metadata": {
        "id": "2gzTQS9403AW"
      },
      "source": [
        "labels_test = test_set.Labels"
      ],
      "execution_count": null,
      "outputs": []
    },
    {
      "cell_type": "code",
      "metadata": {
        "id": "Z20MmMLF03AW"
      },
      "source": [
        "test_set['target'] = test_set['Labels']\n",
        "test_set.drop('Labels', inplace = True, axis = 1)"
      ],
      "execution_count": null,
      "outputs": []
    },
    {
      "cell_type": "code",
      "metadata": {
        "id": "Sy6xWDq303AW"
      },
      "source": [
        "test_set.head()"
      ],
      "execution_count": null,
      "outputs": []
    },
    {
      "cell_type": "code",
      "metadata": {
        "id": "9oFgdYhF03AX"
      },
      "source": [
        "#test_set.dropna(inplace = True)"
      ],
      "execution_count": null,
      "outputs": []
    },
    {
      "cell_type": "code",
      "metadata": {
        "id": "1pCFCv3103AX"
      },
      "source": [
        "X1_test = test_set.iloc[:, :-1].values\n",
        "y1_test = test_set.iloc[:, -1].values"
      ],
      "execution_count": null,
      "outputs": []
    },
    {
      "cell_type": "code",
      "metadata": {
        "id": "NqRqm-V803AX"
      },
      "source": [
        "#from sklearn.preprocessing import StandardScaler\n",
        "#feature_scaler = StandardScaler()\n",
        "#X1_test1 = feature_scaler.fit_transform(X1_test)\n",
        "X1_test2 = feature_scaler.transform(X1_test)"
      ],
      "execution_count": null,
      "outputs": []
    },
    {
      "cell_type": "markdown",
      "metadata": {
        "id": "gmncaoV103AX"
      },
      "source": [
        "## Model test"
      ]
    },
    {
      "cell_type": "code",
      "metadata": {
        "id": "uE997oea03AY"
      },
      "source": [
        "y_pred_test_set = classifier.predict(X1_test2)\n",
        "print(classification_report(y1_test, y_pred_test_set))"
      ],
      "execution_count": null,
      "outputs": []
    },
    {
      "cell_type": "code",
      "metadata": {
        "id": "ES27_6PT03AY"
      },
      "source": [
        "s_test = classification_report(y1_test, y_pred_test_set, output_dict = True)"
      ],
      "execution_count": null,
      "outputs": []
    },
    {
      "cell_type": "code",
      "metadata": {
        "id": "jJOMiZJe03AY"
      },
      "source": [
        "pd.DataFrame(s_test).transpose().to_csv('GSE38268_labelled_medianImp_REPORT.csv')"
      ],
      "execution_count": null,
      "outputs": []
    },
    {
      "cell_type": "code",
      "metadata": {
        "id": "1NL2S0J303AZ"
      },
      "source": [
        "print(all_files[0])\n",
        "print(all_files[2])\n",
        "print(all_files[4])\n",
        "print(all_files[5])\n",
        "print(all_files[8])\n",
        "print(all_files[11])\n",
        "print(all_files[12])\n",
        "print(all_files[13])\n",
        "print(all_files[14])"
      ],
      "execution_count": null,
      "outputs": []
    },
    {
      "cell_type": "code",
      "metadata": {
        "id": "lXWmnk2p03AZ"
      },
      "source": [
        "all_files[18]\n",
        "#ValueError: Input contains NaN, infinity or a value too large for dtype('float32').\n"
      ],
      "execution_count": null,
      "outputs": []
    },
    {
      "cell_type": "markdown",
      "metadata": {
        "id": "qG_d4U7m03Aa"
      },
      "source": [
        "# LIME"
      ]
    },
    {
      "cell_type": "code",
      "metadata": {
        "id": "rbg3B8J_03Aa"
      },
      "source": [
        "training_columns = data_nn.iloc[:, :-1]"
      ],
      "execution_count": null,
      "outputs": []
    },
    {
      "cell_type": "code",
      "metadata": {
        "id": "hUF-6wLt03Aa"
      },
      "source": [
        "training_columns.columns"
      ],
      "execution_count": null,
      "outputs": []
    },
    {
      "cell_type": "code",
      "metadata": {
        "id": "gyMhxR9103Ab"
      },
      "source": [
        "explainer = lime_tabular.LimeTabularExplainer(\n",
        "    training_data=np.array(X_train1),\n",
        "    feature_names=training_columns.columns,\n",
        "    class_names=list(np.unique(labels)),\n",
        "    discretize_continuous=True,\n",
        ")"
      ],
      "execution_count": null,
      "outputs": []
    },
    {
      "cell_type": "code",
      "metadata": {
        "id": "AWZHiErc03Ab"
      },
      "source": [
        "exp = explainer.explain_instance(\n",
        "    data_row=X_test2[1], \n",
        "    predict_fn=classifier.predict_proba, num_features=10, top_labels=2\n",
        ")\n",
        "\n",
        "exp.show_in_notebook(show_table=True, show_all=False)"
      ],
      "execution_count": null,
      "outputs": []
    },
    {
      "cell_type": "markdown",
      "metadata": {
        "id": "UAndf1Rr03Aj"
      },
      "source": [
        "# Find Explainability for BRCA.Metastatic, COAD.Metastatic, OV.Metastatic, PRAD.Metastatic, SKCM.Metastatic, THCA.Metastatic, UCEC.Metastatic"
      ]
    },
    {
      "cell_type": "code",
      "metadata": {
        "id": "GVBDEt8203Ak"
      },
      "source": [
        "y2 = pd.DataFrame(y_train1)"
      ],
      "execution_count": null,
      "outputs": []
    },
    {
      "cell_type": "code",
      "metadata": {
        "id": "Lo3wnoy903Ak"
      },
      "source": [
        "index = y2[y2[0] == 'OV.Metastatic'].head(1).index"
      ],
      "execution_count": null,
      "outputs": []
    },
    {
      "cell_type": "code",
      "metadata": {
        "id": "U6Pll1kZ03Ak"
      },
      "source": [
        "y2[y2[0] == 'BRCA.Primary'].head()"
      ],
      "execution_count": null,
      "outputs": []
    },
    {
      "cell_type": "code",
      "metadata": {
        "id": "v_CCAvzy03Al"
      },
      "source": [
        "y2[y2[0] == 'BRCA.Normal'].head()"
      ],
      "execution_count": null,
      "outputs": []
    },
    {
      "cell_type": "code",
      "metadata": {
        "id": "kpPS7QMD03Al"
      },
      "source": [
        "y2[y2[0] == 'SKCM.Metastatic'].head()"
      ],
      "execution_count": null,
      "outputs": []
    },
    {
      "cell_type": "code",
      "metadata": {
        "id": "lEkMsHnC03Am"
      },
      "source": [
        "y2[y2[0] == 'THCA.Metastatic'].head()"
      ],
      "execution_count": null,
      "outputs": []
    },
    {
      "cell_type": "code",
      "metadata": {
        "id": "6SOjySIN03Am"
      },
      "source": [
        "y2[y2[0] == 'UCEC.Metastatic'].head()"
      ],
      "execution_count": null,
      "outputs": []
    },
    {
      "cell_type": "code",
      "metadata": {
        "id": "O7Hko4mU03An"
      },
      "source": [
        "type(index)"
      ],
      "execution_count": null,
      "outputs": []
    },
    {
      "cell_type": "code",
      "metadata": {
        "id": "jO36jvBq03An"
      },
      "source": [
        "X_train2[index]"
      ],
      "execution_count": null,
      "outputs": []
    },
    {
      "cell_type": "code",
      "metadata": {
        "id": "cxgwZh2g03An"
      },
      "source": [
        "X_train2[10]"
      ],
      "execution_count": null,
      "outputs": []
    },
    {
      "cell_type": "code",
      "metadata": {
        "id": "j96KKOjG03Ao"
      },
      "source": [
        "exp = explainer.explain_instance(\n",
        "    data_row=X_train2[189], \n",
        "    predict_fn=classifier.predict_proba, num_features=10, top_labels=2\n",
        ")\n",
        "\n",
        "exp.show_in_notebook(show_table=True, show_all=False)"
      ],
      "execution_count": null,
      "outputs": []
    },
    {
      "cell_type": "code",
      "metadata": {
        "id": "Ko5MHC3m03Av"
      },
      "source": [
        "exp.save_to_file(\"BRCA_Primary.html\")"
      ],
      "execution_count": null,
      "outputs": []
    },
    {
      "cell_type": "code",
      "metadata": {
        "id": "JF-Uyjo_03Aw"
      },
      "source": [
        "exp = explainer.explain_instance(\n",
        "    data_row=X_train2[74], \n",
        "    predict_fn=classifier.predict_proba, num_features=10, top_labels=2\n",
        ")\n",
        "\n",
        "exp.show_in_notebook(show_table=True, show_all=False)"
      ],
      "execution_count": null,
      "outputs": []
    },
    {
      "cell_type": "code",
      "metadata": {
        "id": "nVKyMceN03A1"
      },
      "source": [
        "exp.save_to_file(\"BRCA_Normal.html\")"
      ],
      "execution_count": null,
      "outputs": []
    },
    {
      "cell_type": "code",
      "metadata": {
        "id": "xeCbfldG03A2"
      },
      "source": [
        "exp = explainer.explain_instance(\n",
        "    data_row=X_train2[4], \n",
        "    predict_fn=classifier.predict_proba,top_labels=2\n",
        ")\n",
        "\n",
        "exp.show_in_notebook(show_table=True, show_all=False)"
      ],
      "execution_count": null,
      "outputs": []
    },
    {
      "cell_type": "code",
      "metadata": {
        "id": "NolfdddF03A2"
      },
      "source": [
        "y2.iloc[77]"
      ],
      "execution_count": null,
      "outputs": []
    },
    {
      "cell_type": "code",
      "metadata": {
        "id": "eS5eUAMn03A2"
      },
      "source": [
        "exp.save_to_file(\"PRAD_Metastatic.html\")"
      ],
      "execution_count": null,
      "outputs": []
    },
    {
      "cell_type": "code",
      "metadata": {
        "id": "EsetbdR403A3"
      },
      "source": [
        "exp = explainer.explain_instance(\n",
        "    data_row=X_train2[10], \n",
        "    predict_fn=classifier.predict_proba, top_labels=2\n",
        ")\n",
        "\n",
        "exp.show_in_notebook(show_table=True, show_all=False)"
      ],
      "execution_count": null,
      "outputs": []
    },
    {
      "cell_type": "code",
      "metadata": {
        "id": "4nerb2wu03A9"
      },
      "source": [
        "y2.iloc[10]"
      ],
      "execution_count": null,
      "outputs": []
    },
    {
      "cell_type": "code",
      "metadata": {
        "id": "xHHiRC9Q03A-"
      },
      "source": [
        "exp.save_to_file(\"PRAD_Metastatic.html\")"
      ],
      "execution_count": null,
      "outputs": []
    },
    {
      "cell_type": "code",
      "metadata": {
        "id": "JJ4mZim403A_"
      },
      "source": [
        "exp1 = explainer.explain_instance(\n",
        "    data_row=X_train2[115], \n",
        "    predict_fn=classifier.predict_proba, top_labels=2\n",
        ")\n",
        "\n",
        "exp1.show_in_notebook(show_table=True, show_all=False)"
      ],
      "execution_count": null,
      "outputs": []
    },
    {
      "cell_type": "code",
      "metadata": {
        "id": "RygVwM_O03BF"
      },
      "source": [
        "y2.iloc[115]"
      ],
      "execution_count": null,
      "outputs": []
    },
    {
      "cell_type": "code",
      "metadata": {
        "id": "HE4MC6Xm03BG"
      },
      "source": [
        "exp1.save_to_file(\"SKCM_Metastatic.html\")"
      ],
      "execution_count": null,
      "outputs": []
    },
    {
      "cell_type": "code",
      "metadata": {
        "id": "0JbXYaEH03BG"
      },
      "source": [
        "exp2 = explainer.explain_instance(\n",
        "    data_row=X_train2[40], \n",
        "    predict_fn=classifier.predict_proba, top_labels=2\n",
        ")\n",
        "\n",
        "exp2.show_in_notebook(show_table=True, show_all=False)"
      ],
      "execution_count": null,
      "outputs": []
    },
    {
      "cell_type": "code",
      "metadata": {
        "id": "a6G-BFJ303BM"
      },
      "source": [
        "exp2.save_to_file(\"THCA_Metastatic.html\")"
      ],
      "execution_count": null,
      "outputs": []
    },
    {
      "cell_type": "code",
      "metadata": {
        "id": "qHpz90Jp03BN"
      },
      "source": [
        "exp3 = explainer.explain_instance(\n",
        "    data_row=X_train2[1], \n",
        "    predict_fn=classifier.predict_proba, top_labels=2\n",
        ")\n",
        "\n",
        "exp3.show_in_notebook(show_table=True, show_all=False)"
      ],
      "execution_count": null,
      "outputs": []
    },
    {
      "cell_type": "code",
      "metadata": {
        "id": "GufIFUCv03BT"
      },
      "source": [
        "exp3.save_to_file(\"UCEC_Metastatic.html\")"
      ],
      "execution_count": null,
      "outputs": []
    },
    {
      "cell_type": "code",
      "metadata": {
        "id": "bB_kBy4v03BU"
      },
      "source": [
        "print(y_test1[1])\n",
        "print(y_pred_cv[1])\n",
        "print(y_test1[2])\n",
        "print(y_pred[2])\n",
        "print(y_test1[20])\n",
        "print(y_pred[20])"
      ],
      "execution_count": null,
      "outputs": []
    }
  ]
}